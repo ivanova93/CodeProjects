{
 "cells": [
  {
   "cell_type": "markdown",
   "metadata": {},
   "source": [
    "Before you turn this problem in, make sure everything runs as expected. First, **restart the kernel** (in the menubar, select Kernel$\\rightarrow$Restart) and then **run all cells** (in the menubar, select Cell$\\rightarrow$Run All).\n",
    "\n",
    "Make sure you fill in any place that says `YOUR CODE HERE` or \"YOUR ANSWER HERE\", as well as your name and collaborators below:"
   ]
  },
  {
   "cell_type": "code",
   "execution_count": null,
   "metadata": {},
   "outputs": [],
   "source": [
    "NAME = \"Ivan Dario Ovalle Benavides\"\n",
    "COLLABORATORS = \"\""
   ]
  },
  {
   "cell_type": "markdown",
   "metadata": {},
   "source": [
    "---"
   ]
  },
  {
   "cell_type": "markdown",
   "metadata": {
    "deletable": false,
    "editable": false,
    "nbgrader": {
     "cell_type": "markdown",
     "checksum": "4ed1b8402dd659fa5d872b21d5c2b919",
     "grade": false,
     "grade_id": "cell-594714016e3f67e5",
     "locked": true,
     "schema_version": 3,
     "solution": false,
     "task": false
    }
   },
   "source": [
    "![Spark Logo](http://spark-mooc.github.io/web-assets/images/ta_Spark-logo-small.png)  ![Python Logo](http://spark-mooc.github.io/web-assets/images/python-logo-master-v3-TM-flattened_small.png)\n",
    "# Contando palabras: Construye una aplicación que cuente palabras de forma eficiente\n",
    "\n",
    "En este ejercicio de laboratorio se trabajarán las tecnologías descritas en los materiales del curso sobre Spark en base a una serie de ejercicios orientados al conteo de palabras. \n",
    "\n",
    "Con el uso masivo de Internet y las redes sociales, el volumen de texto no estructurado esta creciendo dramáticamente, y Spark es una gran herramienta para analizar este tipo de datos. En esta PEC, vamos a escribir código para encontrar las palabras mas comunes en un texto generado en latín, el ya conocido [Lorem Ipsum](https://www.lipsum.com/).\n",
    "\n",
    "\n",
    "Lo mas interesante de la forma de trabajar en esta practica es que podría escalarse para analizar contenido web, por ejemplo, dentro de Wikipedia.\n",
    "\n",
    "## Durante esta PEC vamos a cubrir:\n",
    "\n",
    "* *Parte 1:* Creación de un RDD y un pair RDD <b>(5 Puntos)</b>\n",
    "* *Parte 2:* Contar palabras usando un pair RDD <b>(8 Puntos)</b>\n",
    "* *Parte 3:* Encontrar palabras concretas y su frecuencia de aparición media <b>(5 Puntos)</b>\n",
    "* *Parte 4:* Aplicar las funcionalidades desarrolladas a un archivo de texto <b>(20 Puntos)</b>\n",
    "* *Parte 5:* Calcular algunos estadísticos <b>(12 Puntos)</b>\n",
    "\n",
    "\n",
    "> Como referencia a todos métodos que se requieren para implementar esta práctica podéis consultar:\n",
    "> * [API Python de Spark](https://spark.apache.org/docs/2.4.0/rdd-programming-guide.html)"
   ]
  },
  {
   "cell_type": "markdown",
   "metadata": {
    "deletable": false,
    "editable": false,
    "nbgrader": {
     "cell_type": "markdown",
     "checksum": "af99cbb78f7bcc780bb3611450657f45",
     "grade": false,
     "grade_id": "cell-a2267f6fa8c63781",
     "locked": true,
     "schema_version": 3,
     "solution": false,
     "task": false
    }
   },
   "source": [
    "## Parte 1: Creación de un RDD y un pair RDDs\n",
    "\n",
    "En esta sección, exploraremos como crear RRDs usando `parallelize` y como aplicar pair RDDs al problema del conteo de palabras.\n",
    "\n",
    "### (0a) ¿Qué es un RDD (Resilient Distributed Dataset)?\n",
    "\n",
    "Como hemos visto, un RDD es una colección de elementos tolerante a fallos capaz de operar en paralelo, con las siguientes características:\n",
    "\n",
    "- Son inmutables\n",
    "- Están distribuidos en los distintos nodos del clúster\n",
    "- Son tolerantes a fallos\n",
    "\n",
    "### (0b) Configuración del entorno python + spark"
   ]
  },
  {
   "cell_type": "code",
   "execution_count": 3,
   "metadata": {
    "deletable": false,
    "editable": false,
    "nbgrader": {
     "cell_type": "code",
     "checksum": "39ecaa03554f6a108d6ffe29b470c0b6",
     "grade": false,
     "grade_id": "cell-817c6073513cb3e6",
     "locked": true,
     "schema_version": 3,
     "solution": false,
     "task": false
    }
   },
   "outputs": [
    {
     "data": {
      "text/plain": [
       "<pyspark.conf.SparkConf at 0x7ff9b4728ef0>"
      ]
     },
     "execution_count": 3,
     "metadata": {},
     "output_type": "execute_result"
    }
   ],
   "source": [
    "import findspark\n",
    "findspark.init()\n",
    "\n",
    "from pyspark import SparkConf, SparkContext\n",
    "\n",
    "conf = SparkConf()\n",
    "conf.setMaster(\"local[1]\")\n"
   ]
  },
  {
   "cell_type": "code",
   "execution_count": 4,
   "metadata": {},
   "outputs": [
    {
     "data": {
      "text/plain": [
       "'2.4.0-cdh6.2.0'"
      ]
     },
     "execution_count": 4,
     "metadata": {},
     "output_type": "execute_result"
    }
   ],
   "source": [
    "#replace \"yourloginappname\" by your UOC login and remove the \">\" and \"<\" symbols\n",
    "conf.setAppName(\"ivanovalle\")\n",
    "sc = SparkContext.getOrCreate(conf=conf)\n",
    "sc.version"
   ]
  },
  {
   "cell_type": "markdown",
   "metadata": {},
   "source": [
    "### (1a) Creación de un RDD\n",
    "Empezemos generando un RDD a partir de una lista de Python y el método `sc.parallelize`. Luego mostraremos por pantalla el tipo de la variable generada."
   ]
  },
  {
   "cell_type": "code",
   "execution_count": 5,
   "metadata": {
    "deletable": false,
    "editable": false,
    "nbgrader": {
     "cell_type": "code",
     "checksum": "278ad9409fcc57efd6cbf435b959681e",
     "grade": false,
     "grade_id": "cell-7c3668831843fa7f",
     "locked": true,
     "schema_version": 3,
     "solution": false,
     "task": false
    }
   },
   "outputs": [
    {
     "data": {
      "text/plain": [
       "pyspark.rdd.RDD"
      ]
     },
     "execution_count": 5,
     "metadata": {},
     "output_type": "execute_result"
    }
   ],
   "source": [
    "wordsList = ['lion', 'cat', 'tiger', 'elephant', 'rat', 'tiger', 'rat', 'cat']\n",
    "wordsRDD = sc.parallelize(wordsList, 4)\n",
    "# Print out the type of wordsRDD\n",
    "type(wordsRDD)"
   ]
  },
  {
   "cell_type": "markdown",
   "metadata": {
    "deletable": false,
    "editable": false,
    "nbgrader": {
     "cell_type": "markdown",
     "checksum": "08581068534c7f91b3f6df27c1e7d6b8",
     "grade": false,
     "grade_id": "cell-b953bbbb29565d11",
     "locked": true,
     "schema_version": 3,
     "solution": false,
     "task": false
    }
   },
   "source": [
    "### (1b) Crear el plural de las palabas y testear (1 Punto)\n",
    "\n",
    "Vamos a utilizar una transformación `map()` para incorporar la letra 's' a cada uno de los strings almacenados en el RDD que acabamos de crear. Primero definiremos una función de Python que devuelva la palabra que se le ha pasado como parámetro incorporando una \"s\" al final de esta. \n",
    "\n",
    "En este ejercicio, se pide reemplazar el texto `<FILL IN>` con la solución propuesta. Después de haber definido correctamente la función `makePlural`, ejecutar la siguiente celda que contiene una serie de asserts de test. Si la solución es correcta, se imprimirá `1 test passed`.\n",
    "\n",
    "Esta será la forma habitual de trabajar en las PECs. Los ejercicios contendrán una explicación de lo que se espera, seguido de una celda de código con uno o más `<FILL IN>`. Las celdas que necesiten ser modificadas contendrán el texto `# TODO: Replace <FILL IN> with appropriate code` en la primera línea. En algunos casos, como veréis al final de la descripción del enunciado tendréis una pequeña ayuda (HINT) para completar el ejercicio.\n",
    "\n",
    "Una vez se hayan sustituido todos los `<FILL IN>` por el código Python adecuado, ejecutar la celda, y posteriormente ejecutar la celda siguiente de test para comprobar que la solución es la esperada."
   ]
  },
  {
   "cell_type": "code",
   "execution_count": 6,
   "metadata": {
    "deletable": false,
    "nbgrader": {
     "cell_type": "code",
     "checksum": "bec9796e52a796dd06dd7e6fa82770ca",
     "grade": false,
     "grade_id": "cell-b8b4b950bec37953",
     "locked": false,
     "schema_version": 3,
     "solution": true,
     "task": false
    }
   },
   "outputs": [],
   "source": [
    "# TODO: Replace <FILL IN> with appropriate code\n",
    "def makePlural(word):\n",
    "    \"\"\"Adds an 's' to `word`.\n",
    "\n",
    "    Note:\n",
    "        This is a simple function that only adds an 's'.  \n",
    "\n",
    "    Args:\n",
    "        word (str): A string.\n",
    "\n",
    "    Returns:\n",
    "        str: A string with 's' added to it.\n",
    "    \"\"\"\n",
    "    #START <FILL IN>\n",
    "    return word+\"s\"\n",
    "    #END <FILL IN>"
   ]
  },
  {
   "cell_type": "code",
   "execution_count": 7,
   "metadata": {
    "deletable": false,
    "editable": false,
    "nbgrader": {
     "cell_type": "code",
     "checksum": "438277305e5f80c7e7e54d30f1d9e4ae",
     "grade": true,
     "grade_id": "cell-babaf7e3cda35be8",
     "locked": true,
     "points": 1,
     "schema_version": 3,
     "solution": false,
     "task": false
    }
   },
   "outputs": [],
   "source": [
    "# TEST Pluralize and test (1b)\n",
    "assert makePlural('lion')=='lions'\n",
    "assert makePlural('cat')=='cats'\n",
    "assert makePlural('tiger')=='tigers'"
   ]
  },
  {
   "cell_type": "markdown",
   "metadata": {
    "deletable": false,
    "editable": false,
    "nbgrader": {
     "cell_type": "markdown",
     "checksum": "2da0149016bdc2eeb0144540d21790da",
     "grade": false,
     "grade_id": "cell-5dab366b2c7623fd",
     "locked": true,
     "schema_version": 3,
     "solution": false,
     "task": false
    }
   },
   "source": [
    "### (1c) Aplicar `makePlural` a nuestro RDD (1 Punto)\n",
    "\n",
    "Ahora es el momento de aplicar nuestra función `makePlural()` a todos los elementos del RDD usando la transformación [map()](http://spark.apache.org/docs/2.4.0/api/python/pyspark.html#pyspark.RDD.map). Se pide completar la siguiente celda y posteriormente ejecutar la acción [collect()](http://spark.apache.org/docs/2.4.0/api/python/pyspark.html#pyspark.RDD.collect) en la celda de test para obtener el RDD transformado.\n",
    "\n",
    "A continuación, se ofrece una pequeña ayuda.\n",
    "\n",
    "**HINT (Copy & Paste and Complete):** \n",
    "```python\n",
    "pluralRDD = wordsRDD.map(< FILL_IN >)\n",
    "```"
   ]
  },
  {
   "cell_type": "code",
   "execution_count": 8,
   "metadata": {
    "deletable": false,
    "nbgrader": {
     "cell_type": "code",
     "checksum": "c4e8bfceec6bac2573ea31ef6ea7bf7b",
     "grade": false,
     "grade_id": "cell-e72735b916b19a0d",
     "locked": false,
     "schema_version": 3,
     "solution": true,
     "task": false
    }
   },
   "outputs": [
    {
     "data": {
      "text/plain": [
       "['lions', 'cats', 'tigers', 'elephants', 'rats', 'tigers', 'rats', 'cats']"
      ]
     },
     "execution_count": 8,
     "metadata": {},
     "output_type": "execute_result"
    }
   ],
   "source": [
    "# TODO: Replace <FILL IN> with appropriate code\n",
    "#START <FILL IN>\n",
    "pluralRDD = wordsRDD.map(lambda x: makePlural(x))\n",
    "pluralRDD.take(8)\n",
    "#END <FILL IN>"
   ]
  },
  {
   "cell_type": "code",
   "execution_count": 9,
   "metadata": {
    "deletable": false,
    "editable": false,
    "nbgrader": {
     "cell_type": "code",
     "checksum": "18057c33759ce045f7814bb2048e31f4",
     "grade": true,
     "grade_id": "cell-8f6820c332a87cf7",
     "locked": true,
     "points": 1,
     "schema_version": 3,
     "solution": false,
     "task": false
    }
   },
   "outputs": [],
   "source": [
    "# TEST Apply makePlural to the base RDD(1c)\n",
    "assert pluralRDD.collect() == ['lions', 'cats', 'tigers', 'elephants', 'rats', 'tigers', 'rats', 'cats']"
   ]
  },
  {
   "cell_type": "markdown",
   "metadata": {
    "deletable": false,
    "editable": false,
    "nbgrader": {
     "cell_type": "markdown",
     "checksum": "019c759e3f5f7eaa35702f9efd34e89f",
     "grade": false,
     "grade_id": "cell-89e31743db4c02d9",
     "locked": true,
     "schema_version": 3,
     "solution": false,
     "task": false
    }
   },
   "source": [
    "### (1d) Aplicar una función `lambda` a lo largo de los valores en un RDD mediante la función `map` (1 Punto)\n",
    "\n",
    "Ahora vamos a realizar una transformación equivalente a la anterior mediante una `lambda` función en lugar de una función con nombre.\n",
    "\n",
    "Se pide completar la siguiente celda con la solución. Podéis basaros en el siguiente HINT, y los ejemplos que se muestran en [API Python de Spark](https://spark.apache.org/docs/2.4.0/rdd-programming-guide.html)\n",
    "\n",
    "**HINT (Copy & Paste and Complete):** \n",
    "```python\n",
    "pluralLambdaRDD = wordsRDD.map(< FILL IN >)\n",
    "```"
   ]
  },
  {
   "cell_type": "code",
   "execution_count": 10,
   "metadata": {
    "deletable": false,
    "nbgrader": {
     "cell_type": "code",
     "checksum": "f738f3afce520ef4145b8f33a3229fb9",
     "grade": false,
     "grade_id": "cell-4565359139bf05c4",
     "locked": false,
     "schema_version": 3,
     "solution": true,
     "task": false
    }
   },
   "outputs": [
    {
     "data": {
      "text/plain": [
       "['lions', 'cats', 'tigers', 'elephants', 'rats', 'tigers', 'rats', 'cats']"
      ]
     },
     "execution_count": 10,
     "metadata": {},
     "output_type": "execute_result"
    }
   ],
   "source": [
    "pluralLambdaRDD = wordsRDD.map(lambda x: x+\"s\")\n",
    "pluralLambdaRDD.take(8)"
   ]
  },
  {
   "cell_type": "code",
   "execution_count": 11,
   "metadata": {
    "deletable": false,
    "editable": false,
    "nbgrader": {
     "cell_type": "code",
     "checksum": "dc12cd37f71806a36822965596a59c94",
     "grade": true,
     "grade_id": "cell-92dcd0dadb60af2e",
     "locked": true,
     "points": 1,
     "schema_version": 3,
     "solution": false,
     "task": false
    }
   },
   "outputs": [],
   "source": [
    "# TEST Cell: run collect action to the RDD (pluralLambdaRDD) obtained in the previous cell (1d)\n",
    "assert pluralLambdaRDD.collect() == ['lions', 'cats', 'tigers', 'elephants', 'rats', 'tigers', 'rats', 'cats']"
   ]
  },
  {
   "cell_type": "markdown",
   "metadata": {
    "deletable": false,
    "editable": false,
    "nbgrader": {
     "cell_type": "markdown",
     "checksum": "562ae5df712be5c66dfdd20835711435",
     "grade": false,
     "grade_id": "cell-7f35ed67c2b9d41a",
     "locked": true,
     "schema_version": 3,
     "solution": false,
     "task": false
    }
   },
   "source": [
    "### (1e) Número de caracteres de cada una de las palabras (1 Punto)\n",
    "\n",
    "Ahora se pide obtener el numero de caracteres de cada palabra mediante un transformación `map()` y una función `lambda`. Usaremos la acción `collect` para guardar este resultado directamente en una variable.\n",
    "\n",
    "**HINT (Copy & Paste and Complete):** \n",
    "```python\n",
    "pluralLengths = pluralRDD.map(< FILL_IN >).< FILL_IN >\n",
    "```"
   ]
  },
  {
   "cell_type": "code",
   "execution_count": 12,
   "metadata": {
    "deletable": false,
    "nbgrader": {
     "cell_type": "code",
     "checksum": "f3b46f1cbb6c5fad6c72b04ececba45c",
     "grade": false,
     "grade_id": "cell-9b0af843e7c83e09",
     "locked": false,
     "schema_version": 3,
     "solution": true,
     "task": false
    }
   },
   "outputs": [
    {
     "name": "stdout",
     "output_type": "stream",
     "text": [
      "[5, 4, 6, 9, 4, 6, 4, 4]\n"
     ]
    }
   ],
   "source": [
    "pluralLengths = pluralRDD.map(lambda x:len(x)).collect()\n",
    "print(pluralLengths)"
   ]
  },
  {
   "cell_type": "code",
   "execution_count": 13,
   "metadata": {
    "deletable": false,
    "editable": false,
    "nbgrader": {
     "cell_type": "code",
     "checksum": "97473f40d08c653d66460309c235ad6c",
     "grade": true,
     "grade_id": "cell-362b1d5aa87c3abd",
     "locked": true,
     "points": 1,
     "schema_version": 3,
     "solution": false,
     "task": false
    }
   },
   "outputs": [],
   "source": [
    "# TEST Length of each word (exercice 1e)\n",
    "assert pluralLengths == [5, 4, 6, 9, 4, 6, 4, 4]"
   ]
  },
  {
   "cell_type": "markdown",
   "metadata": {
    "deletable": false,
    "editable": false,
    "nbgrader": {
     "cell_type": "markdown",
     "checksum": "812adeb9d1330a68ae097769c6b956a6",
     "grade": false,
     "grade_id": "cell-cd21d9bad23e4e91",
     "locked": true,
     "schema_version": 3,
     "solution": false,
     "task": false
    }
   },
   "source": [
    "### (1f) Pair RDDs (1 Punto)\n",
    "\n",
    "Para completar nuestro programa de conteo de palabras ahora vamos a trabajar con los llamados pair RDD. Un pair RDD es un RDD en el cual cada elemento es un tupla del estilo `(k, v)` donde `k` es la clave y `v` es su valor correspondiente. Primeramente se pide crear un pair RDD que contenga tuplas con el formato `('<word>', 1)` para cada elemento de nuestro RDD básico.\n",
    "\n",
    "Podemos crear nuestro pair RDD usando una transformación `map()` y una función `lambda()` que transforme adecuadamente los elementos del RDD base.\n",
    "\n",
    "**HINT (Copy & Paste and Complete):** \n",
    "```python\n",
    "wordPairs = wordsRDD.map(< FILL IN >)\n",
    "```"
   ]
  },
  {
   "cell_type": "code",
   "execution_count": 14,
   "metadata": {
    "deletable": false,
    "nbgrader": {
     "cell_type": "code",
     "checksum": "b0077808694379a8e22fdacc197d5587",
     "grade": false,
     "grade_id": "cell-de89e345a5dccc45",
     "locked": false,
     "schema_version": 3,
     "solution": true,
     "task": false
    }
   },
   "outputs": [
    {
     "data": {
      "text/plain": [
       "[('lion', 1),\n",
       " ('cat', 1),\n",
       " ('tiger', 1),\n",
       " ('elephant', 1),\n",
       " ('rat', 1),\n",
       " ('tiger', 1),\n",
       " ('rat', 1),\n",
       " ('cat', 1)]"
      ]
     },
     "execution_count": 14,
     "metadata": {},
     "output_type": "execute_result"
    }
   ],
   "source": [
    "wordPairs = wordsRDD.map(lambda x:(x,1))\n",
    "wordPairs.take(8)"
   ]
  },
  {
   "cell_type": "code",
   "execution_count": 15,
   "metadata": {
    "deletable": false,
    "editable": false,
    "nbgrader": {
     "cell_type": "code",
     "checksum": "cc364252e289a9054f3ab52cbd1cfbe5",
     "grade": true,
     "grade_id": "cell-d79816693c5197a0",
     "locked": true,
     "points": 1,
     "schema_version": 3,
     "solution": false,
     "task": false
    }
   },
   "outputs": [],
   "source": [
    "# TEST Pair RDDs (1f)\n",
    "assert wordPairs.collect() == [('lion', 1), ('cat', 1), ('tiger', 1), ('elephant', 1), ('rat', 1), ('tiger', 1), ('rat', 1), ('cat', 1)]"
   ]
  },
  {
   "cell_type": "markdown",
   "metadata": {
    "deletable": false,
    "editable": false,
    "nbgrader": {
     "cell_type": "markdown",
     "checksum": "c43072782661c47da8d9d65271435fbe",
     "grade": false,
     "grade_id": "cell-fd17cf39e7e9ecfd",
     "locked": true,
     "schema_version": 3,
     "solution": false,
     "task": false
    }
   },
   "source": [
    "## Parte 2: Contar palabras usando un pair RDD\n",
    "\n",
    "Ahora, se pide contar el número de veces que cada palabra en particular aparece en el RDD. Esta operación se puede realizar de una infinidad de maneras, pero algunas serán mucho menos eficientes que otras.\n",
    "\n",
    "Un solución muy sencilla sería usar `collect()` sobre todos los elementos devolverlos al driver y allí contarlos. Mientras esta forma de trabajar podría funcionar con textos relativamente cortos, nosotros lo que queremos es poder trabajar con textos de cualquier longitud. Adicionalmente, ejecutar todo el cálculo en el driver es mucho más lento que ejecutarlo en paralelo en los workers. Por estos motivos, en esta practica usaremos operaciones paralelizables.\n",
    "\n",
    "### (2a) Usando `groupByKey()` (2 Puntos)\n",
    "Una primera propuesta de solución a nuestro problema, luego veremos que hay otras mucho más eficientes, se podría basar en la transformación [groupByKey()](http://spark.apache.org/docs/2.4.0/api/python/pyspark.html#pyspark.RDD.groupByKey). Como su nombre indica, la transformación `groupByKey()` agrupa todos los elementos de un RDD que compartan la misma clave en una única lista dentro de una de las particiones.\n",
    "\n",
    "Esta operación plantea dos problemas:\n",
    "  + Necesita mover todos los valores dentro de la partición adecuada. Esto satura la red. \n",
    "  + Las listas generadas pueden llegar a ser muy grandes llegando incluso a saturar la memoria de alguno de los workers\n",
    "  \n",
    "Veremos como solucionar estos problemas posteriormente. De momento se pide usar transformación wide `groupByKey()` para generar un pair RDD del tipo `('word', iterator)`.\n",
    "\n",
    "**HINT (Copy & Paste and Complete):**\n",
    "```python\n",
    "wordsGrouped = wordPairs.< FILL IN >\n",
    "for key, value in wordsGrouped.collect():\n",
    "    print('{0}: {1}'.format(key, list(value)))\n",
    "```"
   ]
  },
  {
   "cell_type": "code",
   "execution_count": 16,
   "metadata": {
    "deletable": false,
    "nbgrader": {
     "cell_type": "code",
     "checksum": "dad9557ba9904a53edc50ae0285d69d2",
     "grade": false,
     "grade_id": "cell-baba5ba9cccf54d0",
     "locked": false,
     "schema_version": 3,
     "solution": true,
     "task": false
    }
   },
   "outputs": [
    {
     "name": "stdout",
     "output_type": "stream",
     "text": [
      "lion: [1]\n",
      "tiger: [1, 1]\n",
      "cat: [1, 1]\n",
      "elephant: [1]\n",
      "rat: [1, 1]\n"
     ]
    }
   ],
   "source": [
    "wordsGrouped = wordPairs.groupByKey()\n",
    "for key, value in wordsGrouped.collect():\n",
    "    print('{0}: {1}'.format(key, list(value)))"
   ]
  },
  {
   "cell_type": "code",
   "execution_count": 17,
   "metadata": {
    "deletable": false,
    "editable": false,
    "nbgrader": {
     "cell_type": "code",
     "checksum": "ac8b92276e6a9e5c91c369a6cbc09418",
     "grade": true,
     "grade_id": "cell-bf339be44df0b0dc",
     "locked": true,
     "points": 2,
     "schema_version": 3,
     "solution": false,
     "task": false
    }
   },
   "outputs": [],
   "source": [
    "# TEST groupByKey() approach (2a)\n",
    "assert sorted(wordsGrouped.mapValues(lambda x: list(x)).collect()) == [('cat', [1, 1]), ('elephant', [1]), ('lion', [1]), ('rat', [1, 1]), ('tiger', [1, 1])]"
   ]
  },
  {
   "cell_type": "markdown",
   "metadata": {
    "deletable": false,
    "editable": false,
    "nbgrader": {
     "cell_type": "markdown",
     "checksum": "59c3e99be28590a0e6c22a7374390a0a",
     "grade": false,
     "grade_id": "cell-ad549bc573cfe490",
     "locked": true,
     "schema_version": 3,
     "solution": false,
     "task": false
    }
   },
   "source": [
    "### (2b) Utiliza `groupByKey()` para obtener los conteos (2 Puntos)\n",
    "\n",
    "Usando la transformación `groupByKey()` crea un RDD que contenga 2 elementos, donde cada uno de ellos sea un par palabra (clave) iterador de Python (valor). Se puede reaprovechar el RDD `wordsGrouped`.\n",
    "\n",
    "Luego suma todos los valores del iterador usando una transformación `map()`. El resultado debe ser un pair RDD que contenga las parejas (word, count).\n",
    "\n",
    "**HINT (Copy & Paste and Complete):** \n",
    "```python\n",
    "wordCountsGrouped = wordsGrouped.< FILL IN >\n",
    "```"
   ]
  },
  {
   "cell_type": "code",
   "execution_count": 31,
   "metadata": {
    "deletable": false,
    "nbgrader": {
     "cell_type": "code",
     "checksum": "d3e03f96b4b604f4b3b903ee2b58a0b7",
     "grade": false,
     "grade_id": "cell-c7dea62d6c0c55ca",
     "locked": false,
     "schema_version": 3,
     "solution": true,
     "task": false
    }
   },
   "outputs": [
    {
     "data": {
      "text/plain": [
       "[('lion', 1), ('tiger', 2), ('cat', 2), ('elephant', 1), ('rat', 2)]"
      ]
     },
     "execution_count": 31,
     "metadata": {},
     "output_type": "execute_result"
    }
   ],
   "source": [
    "wordCountsGrouped = wordsGrouped.map(lambda x:(x[0],len(list(x[1]))))\n",
    "wordCountsGrouped.collect()"
   ]
  },
  {
   "cell_type": "code",
   "execution_count": 32,
   "metadata": {
    "deletable": false,
    "editable": false,
    "nbgrader": {
     "cell_type": "code",
     "checksum": "9785cb1eb26406c0303a300cc1dae1a4",
     "grade": true,
     "grade_id": "cell-74a69c127898b698",
     "locked": true,
     "points": 2,
     "schema_version": 3,
     "solution": false,
     "task": false
    }
   },
   "outputs": [],
   "source": [
    "# TEST Use groupByKey() to obtain the counts (2b)\n",
    "assert sorted(wordCountsGrouped.collect())==[('cat', 2), ('elephant', 1), ('lion', 1), ('rat', 2), ('tiger', 2)]"
   ]
  },
  {
   "cell_type": "markdown",
   "metadata": {
    "deletable": false,
    "editable": false,
    "nbgrader": {
     "cell_type": "markdown",
     "checksum": "8bfb9554f1b8cfb3f1660607f9ba7c24",
     "grade": false,
     "grade_id": "cell-5fb2fb896be85380",
     "locked": true,
     "schema_version": 3,
     "solution": false,
     "task": false
    }
   },
   "source": [
    "### (2c) Conteo usando `reduceByKey` (2 Puntos)\n",
    "\n",
    "Intentando solucionar la problemática citada anteriormente, una mejor solución para obtener los conteos es comenzar desde un pair RDD y luego usar la transformación [reduceByKey()](http://spark.apache.org/docs/2.4.0/api/python/pyspark.html#pyspark.RDD.reduceByKey) para crear un nuevo pair RDD. La transformación `reduceByKey()` agrupa todas las parejas que comparten la misma clave. Posteriormente aplica la función que se le pasa por parámetro agrupando los valores de dos en dos. Este proceso se repite iterativamente hasta que obtenemos un único valor agregado para cada una de las claves del pair RDD. La transformación `reduceByKey()` opera aplicando la función primero dentro de cada una de las particiones de forma independiente, y posteriormente solo comparte los valores agregados entre particiones diferentes, permitiéndole escalar de forma eficiente ya que no tiene necesidad de desplazar por la red una gran cantidad de datos.\n",
    "\n",
    "**HINT (Copy & Paste and Complete):** \n",
    "```python\n",
    "wordCounts = wordPairs.reduceByKey(< FILL IN >)\n",
    "```"
   ]
  },
  {
   "cell_type": "code",
   "execution_count": 35,
   "metadata": {
    "deletable": false,
    "nbgrader": {
     "cell_type": "code",
     "checksum": "fc2711c5cb3ca98551635f46597be4d5",
     "grade": false,
     "grade_id": "cell-a2dfc0df90101b5b",
     "locked": false,
     "schema_version": 3,
     "solution": true,
     "task": false
    }
   },
   "outputs": [
    {
     "data": {
      "text/plain": [
       "[('lion', 1), ('tiger', 2), ('cat', 2), ('elephant', 1), ('rat', 2)]"
      ]
     },
     "execution_count": 35,
     "metadata": {},
     "output_type": "execute_result"
    }
   ],
   "source": [
    "wordCounts = wordPairs.reduceByKey(lambda a,b:a+b)\n",
    "wordCounts.collect()"
   ]
  },
  {
   "cell_type": "code",
   "execution_count": 34,
   "metadata": {
    "deletable": false,
    "editable": false,
    "nbgrader": {
     "cell_type": "code",
     "checksum": "d9d71048e4f50772cb8270952b6c0680",
     "grade": true,
     "grade_id": "cell-4336283b7de4f325",
     "locked": true,
     "points": 2,
     "schema_version": 3,
     "solution": false,
     "task": false
    }
   },
   "outputs": [],
   "source": [
    "# TEST Counting using reduceByKey (2c)\n",
    "assert sorted(wordCounts.collect())==[('cat', 2), ('elephant', 1), ('lion', 1), ('rat', 2), ('tiger', 2)]"
   ]
  },
  {
   "cell_type": "markdown",
   "metadata": {
    "deletable": false,
    "editable": false,
    "nbgrader": {
     "cell_type": "markdown",
     "checksum": "9a0ab8f528a0a63097f3b22fbbdbad2c",
     "grade": false,
     "grade_id": "cell-65a9cf5388127ae2",
     "locked": true,
     "schema_version": 3,
     "solution": false,
     "task": false
    }
   },
   "source": [
    "### (2d) Ahora todo junto (2 Puntos)\n",
    "\n",
    "La version más compleja para solucionar el problema del conteo ejecuta primero un `map()` sobre el pair RDD, luego la transformación `reduceByKey()` y, finalmente, la acción `collect()` en una única linea de codigo.\n",
    "\n",
    "**HINT (Copy & Paste and Complete):** \n",
    "```python\n",
    "wordCountsCollected = (wordsRDD\n",
    "    .< FILL IN >\n",
    "    ...\n",
    "    .< FILL IN >                       \n",
    "    .collect())\n",
    "```"
   ]
  },
  {
   "cell_type": "code",
   "execution_count": 38,
   "metadata": {
    "deletable": false,
    "nbgrader": {
     "cell_type": "code",
     "checksum": "120b3f55667761bf4101e7d716c7bd35",
     "grade": false,
     "grade_id": "cell-efb14ccdee6629d8",
     "locked": false,
     "schema_version": 3,
     "solution": true,
     "task": false
    }
   },
   "outputs": [
    {
     "name": "stdout",
     "output_type": "stream",
     "text": [
      "[('lion', 1), ('tiger', 2), ('cat', 2), ('elephant', 1), ('rat', 2)]\n"
     ]
    }
   ],
   "source": [
    "wordCountsCollected = (wordsRDD\n",
    "    .map(lambda x:(x,1))\n",
    "    .reduceByKey(lambda a,b:a+b)                      \n",
    "    .collect())\n",
    "print(wordCountsCollected)"
   ]
  },
  {
   "cell_type": "code",
   "execution_count": null,
   "metadata": {
    "deletable": false,
    "editable": false,
    "nbgrader": {
     "cell_type": "code",
     "checksum": "80b5a34efcc7396e9f3abdd53151d063",
     "grade": true,
     "grade_id": "cell-856e3903dc0f06aa",
     "locked": true,
     "points": 2,
     "schema_version": 3,
     "solution": false,
     "task": false
    }
   },
   "outputs": [],
   "source": [
    "# TEST exercise 2d\n",
    "assert sorted(wordCountsCollected)==[('cat', 2), ('elephant', 1), ('lion', 1), ('rat', 2), ('tiger', 2)]"
   ]
  },
  {
   "cell_type": "markdown",
   "metadata": {
    "deletable": false,
    "editable": false,
    "nbgrader": {
     "cell_type": "markdown",
     "checksum": "d88273eb5eefe570270b7ec6d8c4cf3c",
     "grade": false,
     "grade_id": "cell-299c8a2f6ecc2724",
     "locked": true,
     "schema_version": 3,
     "solution": false,
     "task": false
    }
   },
   "source": [
    "## Parte 3: Encontrar las palabras individuales y su frecuencia de aparición media\n",
    "\n",
    "### (3a) Palabras únicas (2 Puntos)\n",
    "\n",
    "Se pide obtener el número de palabras únicas en `wordsRDD`. Puedes utilizar otros RDDs que hayas creado en esta práctica si te resulta mas sencillo.\n",
    "\n",
    "**HINT (Copy & Paste and Complete):** \n",
    "```python\n",
    "uniqueWords = < FILL IN >\n",
    "```"
   ]
  },
  {
   "cell_type": "code",
   "execution_count": 122,
   "metadata": {
    "deletable": false,
    "nbgrader": {
     "cell_type": "code",
     "checksum": "4675506f560a0c1578ed5e1f97600329",
     "grade": false,
     "grade_id": "cell-16348ea08b49c4a8",
     "locked": false,
     "schema_version": 3,
     "solution": true,
     "task": false
    }
   },
   "outputs": [
    {
     "name": "stdout",
     "output_type": "stream",
     "text": [
      "5\n"
     ]
    }
   ],
   "source": [
    "uniqueWords = wordCounts.distinct().count()\n",
    "print(uniqueWords)"
   ]
  },
  {
   "cell_type": "code",
   "execution_count": 121,
   "metadata": {
    "deletable": false,
    "editable": false,
    "nbgrader": {
     "cell_type": "code",
     "checksum": "6891b1221c5100bde4d29ca3b27c2690",
     "grade": true,
     "grade_id": "cell-18114a75b3dc89f9",
     "locked": true,
     "points": 2,
     "schema_version": 3,
     "solution": false,
     "task": false
    }
   },
   "outputs": [],
   "source": [
    "# TEST exercise 3a\n",
    "assert uniqueWords== 5"
   ]
  },
  {
   "cell_type": "markdown",
   "metadata": {
    "deletable": false,
    "editable": false,
    "nbgrader": {
     "cell_type": "markdown",
     "checksum": "109947aedcb481998a252435b8bad6dc",
     "grade": false,
     "grade_id": "cell-88f80ac1ad6b10a3",
     "locked": true,
     "schema_version": 3,
     "solution": false,
     "task": false
    }
   },
   "source": [
    "### (3b) Calular la frecuencia media de aparición usando `reduce()` (3 Puntos)\n",
    "\n",
    "Encuentra la frecuencia media de aparición de cada palabra en el RDD `wordCounts`.\n",
    "\n",
    "Se pide utilizar la acción `reduce()` para sumar los conteos en `wordCounts` y entonces dividir por el número de palabras únicas. Para realizar esto primero aplica un `map()` al pair RDD `wordCounts`, que esta formado por tuplas con el formato (key, value), para convertirlo en un RDD de valores.\n",
    "\n",
    "**HINT (Copy & Paste and Complete):** \n",
    "\n",
    "```python\n",
    "from operator import add\n",
    "totalCount = (wordCounts\n",
    "    .map(< FILL IN >)\n",
    "    .reduce(< FILL IN >))\n",
    "average = < FILL IN > / float(< FILL IN >)\n",
    "```\n",
    "\n",
    "NOTA: en caso de resolver el problema siguiendo el proceso anterior el ejercicio se valorará en 2 puntos. Si se encuentra una solución que solo utilizen una sola instrucción para obtener el resultado se valorará en 3 puntos. Es decir, sin tener que aplicar la división en una segunda instrucción."
   ]
  },
  {
   "cell_type": "code",
   "execution_count": 61,
   "metadata": {
    "deletable": false,
    "nbgrader": {
     "cell_type": "code",
     "checksum": "24e4c2622f3c2c8e34f4aed2561e65fb",
     "grade": false,
     "grade_id": "cell-9066ac11760c53f6",
     "locked": false,
     "schema_version": 3,
     "solution": true,
     "task": false
    }
   },
   "outputs": [
    {
     "data": {
      "text/plain": [
       "1.6"
      ]
     },
     "execution_count": 61,
     "metadata": {},
     "output_type": "execute_result"
    }
   ],
   "source": [
    "from operator import add\n",
    "totalCount = (wordCounts\n",
    "              .map(lambda x: x[1])\n",
    "              .reduce(lambda a,b:a+b))\n",
    "average = totalCount / float(wordCounts.groupByKey().count())\n",
    "average"
   ]
  },
  {
   "cell_type": "code",
   "execution_count": 62,
   "metadata": {
    "deletable": false,
    "editable": false,
    "nbgrader": {
     "cell_type": "code",
     "checksum": "dbc991e8e5aa532ea59a712b18175d90",
     "grade": true,
     "grade_id": "cell-074da01b339d1d9d",
     "locked": true,
     "points": 3,
     "schema_version": 3,
     "solution": false,
     "task": false
    }
   },
   "outputs": [],
   "source": [
    "# TEST exercise 3b\n",
    "assert round(average, 2)==1.6, 'incorrect value of average'"
   ]
  },
  {
   "cell_type": "markdown",
   "metadata": {
    "deletable": false,
    "editable": false,
    "nbgrader": {
     "cell_type": "markdown",
     "checksum": "6712af964d1f915695a1b17536f5c0d7",
     "grade": false,
     "grade_id": "cell-6b80e44dc34d1f96",
     "locked": true,
     "schema_version": 3,
     "solution": false,
     "task": false
    }
   },
   "source": [
    "## Parte 4: Aplicar las funcionalidades desarrolladas a un archivo de texto\n",
    "\n",
    "A este objetivo se propone construir una funcion `wordCount`, capaz de trabajar con datos reales, que suelen presentan problemas como el uso de mayúsculas o minúsculas, puntuación, acentos, etc. Posteriormente, se pide cargar los datos de nuestra fuente de datos y finalmente, calcular el conteo de palabras sobre los datos procesados.\n",
    "\n",
    "### (4a) Función `wordCount` (4 Puntos)\n",
    "\n",
    "Se pide definir una función para el conteo de dichas palabras. Se aconseja reusar las técnicas que has visto en los apartados anteriores de esta práctica. Dicha función, ha de tomar un RDD que contenga una lista de palabras, y devolver un pair RDD que contenga todas las palabras con sus correspondientes conteos."
   ]
  },
  {
   "cell_type": "code",
   "execution_count": 63,
   "metadata": {
    "deletable": false,
    "nbgrader": {
     "cell_type": "code",
     "checksum": "e059bce7c34f4f25e02db143e5cb22c7",
     "grade": false,
     "grade_id": "cell-90cb9e33943318d1",
     "locked": false,
     "schema_version": 3,
     "solution": true,
     "task": false
    }
   },
   "outputs": [],
   "source": [
    "# TODO: Replace <FILL IN> with appropriate code\n",
    "def wordCount(wordListRDD):\n",
    "    \"\"\"Creates a pair RDD with word counts from an RDD of words.\n",
    "\n",
    "    Args:\n",
    "        wordListRDD (RDD of str): An RDD consisting of words.\n",
    "\n",
    "    Returns:\n",
    "        RDD of (str, int): An RDD consisting of (word, count) tuples.\n",
    "    \"\"\"\n",
    "    #START <FILL IN>\n",
    "    return wordListRDD.map(lambda x:(x,1)).reduceByKey(lambda a,b:a+b)\n",
    "    #END <FILL IN>"
   ]
  },
  {
   "cell_type": "code",
   "execution_count": 64,
   "metadata": {
    "deletable": false,
    "editable": false,
    "nbgrader": {
     "cell_type": "code",
     "checksum": "d85fe92cd7358b39d4687fad82e31536",
     "grade": true,
     "grade_id": "cell-388aedb5b80c8820",
     "locked": true,
     "points": 4,
     "schema_version": 3,
     "solution": false,
     "task": false
    }
   },
   "outputs": [],
   "source": [
    "# TEST exercise 4a\n",
    "assert sorted(wordCount(wordsRDD).collect())==[('cat', 2), ('elephant', 1), ('lion', 1), ('rat', 2), ('tiger', 2)]"
   ]
  },
  {
   "cell_type": "markdown",
   "metadata": {
    "deletable": false,
    "editable": false,
    "nbgrader": {
     "cell_type": "markdown",
     "checksum": "26173182f22ef8ee67f7adf8807107e3",
     "grade": false,
     "grade_id": "cell-9162c6e27ac67a96",
     "locked": true,
     "schema_version": 3,
     "solution": false,
     "task": false
    }
   },
   "source": [
    "### (4b) Mayúsculas y puntuación (4 Puntos)\n",
    "\n",
    "Los ficheros con datos reales son mucho más complejos que los que hemos estado usando en esta PAC. Algunos de los problemas a tratar son:\n",
    "  + Las palabras deben de contarse independientemente de si contienen mayúsculas o minúsculas (por ejemplo, Spark y spark deberían contarse como la misma palabra).\n",
    "  + Todos los signos de puntuación han de eliminarse.\n",
    "  + Cualquier espacio al principio o al final de la palabra debe eliminarse.\n",
    "  \n",
    "Se pide definir la función `removePunctuation` que convierta todo el texto a minúsculas, elimine los signos de puntuación y los espacios al principio y fin de cada palabra. Usa el modulo de Python [re](https://docs.python.org/2/library/re.html) para eliminar cualquier carácter que no sea una letra, un número o un espacio.\n",
    "\n",
    "Sino estas familiarizado con las expresiones regulares se aconseja revisar [este tutorial](https://developers.google.com/edu/python/regular-expressions). Alternativamente, [esta web](https://regex101.com/#python) es de gran ayuda para debugar tus expresiones regulares.\n",
    "\n",
    "**Hints**\n",
    "\n",
    "1. Usa la función [re.sub()](https://docs.python.org/2.7/library/re.html#re.sub).\n",
    "2. Para nuestros propósitos, \"puntuación\" significa no alfabético, numérico, o espacio. La expresión regular que define estos caracteres es: `[^A-Za-z\\s\\d]`\n",
    "3. No usar `\\W`, ya que retendrá los guiones bajos."
   ]
  },
  {
   "cell_type": "code",
   "execution_count": 71,
   "metadata": {
    "deletable": false,
    "nbgrader": {
     "cell_type": "code",
     "checksum": "c431f8c65a105266dd214489a2b76b37",
     "grade": false,
     "grade_id": "cell-2f6ff0c9ac2172e4",
     "locked": false,
     "schema_version": 3,
     "solution": true,
     "task": false
    }
   },
   "outputs": [
    {
     "name": "stdout",
     "output_type": "stream",
     "text": [
      "hi you\n",
      "no underscore\n",
      "remove punctuation then spaces\n"
     ]
    }
   ],
   "source": [
    "# TODO: Replace <FILL IN> with appropriate code\n",
    "import re\n",
    "def removePunctuation(text):\n",
    "    \"\"\"Removes punctuation, changes to lower case, and strips leading and trailing spaces.\n",
    "\n",
    "    Note:\n",
    "        Only whitespace, letters, and numbers should be retained.  Other characters should should be\n",
    "        eliminated (e.g. it's becomes its).  Leading and trailing spaces should be removed after\n",
    "        punctuation is removed.\n",
    "\n",
    "    Args:\n",
    "        text (str): A string.\n",
    "\n",
    "    Returns:\n",
    "        str: The cleaned up string.\n",
    "    \"\"\"\n",
    "    #START <FILL IN>\n",
    "    text = re.sub(r'[^A-Za-z\\s\\d]', '', text)\n",
    "    text = text.lower()\n",
    "    text = text.strip()\n",
    "    return text\n",
    "    #END <FILL IN>\n",
    "  \n",
    "print(removePunctuation('Hi, you!'))\n",
    "print(removePunctuation(' No under_score!'))\n",
    "print(removePunctuation(' *      Remove punctuation then spaces  * '))"
   ]
  },
  {
   "cell_type": "code",
   "execution_count": 72,
   "metadata": {
    "deletable": false,
    "editable": false,
    "nbgrader": {
     "cell_type": "code",
     "checksum": "c3f5cad6c938182096c2ef64e091771e",
     "grade": true,
     "grade_id": "cell-97a96198085b67f0",
     "locked": true,
     "points": 4,
     "schema_version": 3,
     "solution": false,
     "task": false
    }
   },
   "outputs": [],
   "source": [
    "# TEST exercise 4b\n",
    "assert removePunctuation(\" The Elephant's 4 cats. \") == 'the elephants 4 cats'"
   ]
  },
  {
   "cell_type": "markdown",
   "metadata": {
    "deletable": false,
    "editable": false,
    "nbgrader": {
     "cell_type": "markdown",
     "checksum": "d5b99f3e45996c2093f76d7f4b190955",
     "grade": false,
     "grade_id": "cell-c9c4ac478bde93cd",
     "locked": true,
     "schema_version": 3,
     "solution": false,
     "task": false
    }
   },
   "source": [
    "### (4c) Cargar un fichero de texto\n",
    "\n",
    "A partir de este punto usaremos el texto ya mencionado Lorem Ipsum generado para la práctica. Para cargar un fichero de texto a un RDD, usaremos el método `SparkContext.textFile()`. Una vez cargado el fichero se pide limpiar los datos mediante `removePunctuation()` dentro de una transformación `map()`. Dado que el fichero es bastante grande, usaremos `take(15)`, de forma que tan solo imprimiremos por pantalla las 15 primeras líneas.\n",
    "\n",
    "Se pide revisar y ejecutar la siguiente celda."
   ]
  },
  {
   "cell_type": "code",
   "execution_count": 73,
   "metadata": {
    "deletable": false,
    "editable": false,
    "nbgrader": {
     "cell_type": "code",
     "checksum": "152b1185d6e0717bb13229d0590050cf",
     "grade": false,
     "grade_id": "cell-c27536ba0515363e",
     "locked": true,
     "schema_version": 3,
     "solution": false,
     "task": false
    }
   },
   "outputs": [
    {
     "data": {
      "text/plain": [
       "['aut minima deleniti et autem minus illo esse dolores eligendi corrupti dolore minima nostrum eos nobis nam nihil aspernatur nam ut quae sint laborum ut dolores error possimus aperiam consequatur',\n",
       " 'pariatur sed quo non itaque qui pariatur saepe ad quis consequatur nihil iste molestias et eos ut expedita vel reiciendis dolorem enim doloribus quam architecto aperiam',\n",
       " 'sed repudiandae pariatur similique est aut sequi animi in aperiam enim ipsa enim dolorem inventore aut quo odio in consequatur et',\n",
       " 'aspernatur ad esse et aliquid itaque dolores rerum quia commodi explicabo non magnam nostrum consectetur non sint eum nulla et aut quis doloribus itaque nulla molestiae quis est est quo facilis incidunt a ipsa in itaque sed aut nobis facere dignissimos atque unde cum ea vero',\n",
       " 'tenetur vel quod voluptatum laudantium dolores neque aut est modi qui aperiam itaque aperiam quae ratione doloremque aut delectus quas qui',\n",
       " 'qui placeat vel ipsam praesentium sint recusandae dicta minus praesentium omnis sequi a sed veritatis porro ab et officia esse commodi pariatur sequi cumque',\n",
       " 'mollitia facilis amet deleniti quia laborum commodi et molestias maxime quia dignissimos inventore neque libero deleniti ad quo corrupti numquam quis accusantium',\n",
       " 'architecto harum sunt et enim nisi commodi et id reprehenderit illum molestias illo facilis fuga eum illum quasi fugit qui',\n",
       " 'modi voluptatem quia et saepe inventore sed quo ea debitis explicabo vel perferendis commodi exercitationem sequi eum dolor cupiditate ab molestiae nemo ullam neque hic ipsa cupiditate dolor molestiae neque nam nobis nihil mollitia unde',\n",
       " 'voluptates quod in ipsum dicta fuga voluptatibus sint consequatur quod optio molestias nostrum repellendus consequatur aliquam fugiat provident omnis minus est quisquam exercitationem eum voluptas fugit quae eveniet perspiciatis assumenda maxime']"
      ]
     },
     "execution_count": 73,
     "metadata": {},
     "output_type": "execute_result"
    }
   ],
   "source": [
    "# Just run the code\n",
    "import os.path\n",
    "\n",
    "fileName = os.path.join('/aula_M2.858/data/', 'LoremIpsum.txt')\n",
    "\n",
    "loremRDD = sc.textFile(fileName, 8).map(removePunctuation).filter(lambda x: len(x)>0)\n",
    "loremRDD.take(10)"
   ]
  },
  {
   "cell_type": "markdown",
   "metadata": {
    "deletable": false,
    "editable": false,
    "nbgrader": {
     "cell_type": "markdown",
     "checksum": "9b975014fa0c2a47130f09f064319ac0",
     "grade": false,
     "grade_id": "cell-25d2feffdf0069db",
     "locked": true,
     "schema_version": 3,
     "solution": false,
     "task": false
    }
   },
   "source": [
    "### (4d) Extraer las palabras de las lineas (4 Puntos)\n",
    "\n",
    "Antes de poder usar la función `wordcount()`, hemos de solucionar dos problemas con el formato del RDD:\n",
    "  + El primer problema es que necesitamos obtener las palabras que contiene cada línea. Esto lo solucionaremos en el apartado (4d).\n",
    "  + El segundo problema es que necesitamos filtrar las líneas completamente vacías. Esto lo solucionaremos en el apartado (4e).\n",
    "\n",
    "Para aplicar una transformación que divida cada elemento del RDD por sus espacios, se propone aplicar la función incorporada en los strings de Python [split()](https://docs.python.org/2/library/string.html#string.split). Cuidado que a primera vista puede parecer que la función necesaria es una transformacion `map()`, pero si analizas el resultado de la función `split()` te darás cuenta que esta no es la opción correcta.\n",
    "\n",
    "> Nota:\n",
    "> * No uses la implementación estándar del `split()`, pásale un valor de separación. Por ejemplo, para dividir `line` por comas, usa `line.split(',')`.\n",
    "\n",
    "**HINT (Copy & Paste and Complete):** \n",
    "```python\n",
    "loremWordsRDD = loremRDD.< FILL IN >\n",
    "```"
   ]
  },
  {
   "cell_type": "code",
   "execution_count": 86,
   "metadata": {
    "deletable": false,
    "nbgrader": {
     "cell_type": "code",
     "checksum": "1456576106a520c6e3e63512b1c06584",
     "grade": false,
     "grade_id": "cell-62026cde37a4b3d5",
     "locked": false,
     "schema_version": 3,
     "solution": true,
     "task": false
    }
   },
   "outputs": [
    {
     "data": {
      "text/plain": [
       "29249699"
      ]
     },
     "execution_count": 86,
     "metadata": {},
     "output_type": "execute_result"
    }
   ],
   "source": [
    "# TODO: Replace <FILL IN> with appropriate code\n",
    "#START <FILL IN>\n",
    "# YOUR CODE HERE\n",
    "loremWordsRDD = loremRDD.flatMap(lambda x: x.split(\" \"))\n",
    "#END <FILL IN>\n",
    "loremWordsCount = loremWordsRDD.count()\n",
    "loremWordsCount"
   ]
  },
  {
   "cell_type": "code",
   "execution_count": 85,
   "metadata": {
    "deletable": false,
    "editable": false,
    "nbgrader": {
     "cell_type": "code",
     "checksum": "2d80cffcf6beb66dafaaa2aec1564c21",
     "grade": true,
     "grade_id": "cell-5eefb61d132b0437",
     "locked": true,
     "points": 4,
     "schema_version": 3,
     "solution": false,
     "task": false
    }
   },
   "outputs": [],
   "source": [
    "# TEST Words from lines (4d)\n",
    "# This test allows for leading spaces to be removed either before or after\n",
    "# punctuation is removed.\n",
    "assert loremWordsCount == 29249699\n",
    "assert loremWordsRDD.top(5)==['voluptatum', 'voluptatum', 'voluptatum', 'voluptatum', 'voluptatum']"
   ]
  },
  {
   "cell_type": "markdown",
   "metadata": {
    "deletable": false,
    "editable": false,
    "nbgrader": {
     "cell_type": "markdown",
     "checksum": "85248ae48ef6d02b8a3fdcc954ad2c59",
     "grade": false,
     "grade_id": "cell-262dd789514fcb2a",
     "locked": true,
     "schema_version": 3,
     "solution": false,
     "task": false
    }
   },
   "source": [
    "### (4e) Mejorando la eficiencia mediante persistencia (2 Puntos)\n",
    "\n",
    "Una vez que hemos contado el número de palabras con el método `count()`, nos vamos a centrar en hacer el código más eficiente. \n",
    "\n",
    "Para reducir los tiempos de ejecución, vamos a utilizar la persistencia de un RDD `persist()`, que principalmente se utiliza cuando se realizan múltiples operaciones repetidas sobre un RDD. Cuando se utiliza la persistencia, cada nodo conserva la partición del RDD que opera en la memoria.\n",
    "\n",
    "El buen uso de la persistencia de un RDD puede llegar a aumentar el rendimiento de las aplicaciones Spark en más de 10 veces. Para algoritmos iterativos y aplicaciones interactivas rápidas, la persistencia es de vital importancia.\n",
    "\n",
    "Existen diferentes niveles de persistencia, dependiendo de si se almacena el RDD en memoria o en disco. En este ejemplo utilizaremos el nivel de persistencia por defecto MEMORY_ONLY.\n",
    "\n",
    "Mediante las siguientes celdas vamos a poder ver las ventajas de la persistencia. Para poder cuantificar la mejora del rendimiento nos ayudaremos de la función `%%time`, que imprime el CPU time y el wall clock time de ejecución para la celda completa.\n",
    "\n",
    "> Nota:\n",
    "> * Wall clock time: tiempo total real que lleva ejecutar una tarea (CPU time, I/O time y tiempo de comunicación entre máquinas si los datos están repartidos entre varias)\n",
    ">* CPU time: tiempo total que está la CPU ejecutando una tarea\n",
    "\n",
    "Siguientemente haremos una serie de ejecuciones sobre un RDD utilizando el método `count()` aunque podríamos utilizar diferentes métodos o combinaciones de métodos, pero lo haremos así por simplicidad.\n",
    "\n",
    "1. Contamos el número de palabras y vemos el tiempo invertido en la ejecución"
   ]
  },
  {
   "cell_type": "code",
   "execution_count": 87,
   "metadata": {
    "deletable": false,
    "editable": false,
    "nbgrader": {
     "cell_type": "code",
     "checksum": "1fee76b0d3f5092ee8f3d23ca3511197",
     "grade": false,
     "grade_id": "cell-02bb2327bc432e0d",
     "locked": true,
     "schema_version": 3,
     "solution": false,
     "task": false
    }
   },
   "outputs": [
    {
     "name": "stdout",
     "output_type": "stream",
     "text": [
      "CPU times: user 16 ms, sys: 0 ns, total: 16 ms\n",
      "Wall time: 15 s\n"
     ]
    },
    {
     "data": {
      "text/plain": [
       "29249699"
      ]
     },
     "execution_count": 87,
     "metadata": {},
     "output_type": "execute_result"
    }
   ],
   "source": [
    "%%time\n",
    "loremWordsRDD.count()"
   ]
  },
  {
   "cell_type": "markdown",
   "metadata": {
    "deletable": false,
    "editable": false,
    "nbgrader": {
     "cell_type": "markdown",
     "checksum": "da7b495ba3c397e07f28d3808a08ad4d",
     "grade": false,
     "grade_id": "cell-a7617cbe5aa9c77a",
     "locked": true,
     "schema_version": 3,
     "solution": false,
     "task": false
    }
   },
   "source": [
    "2. Se pide realizar un `persist()` sobre el RDD `loremWordsRDD` (1 Punto)\n",
    "\n",
    "**HINT (Copy & Paste and Complete):** \n",
    "```python \n",
    "loremWordsRDD.< FILL IN >\n",
    "```"
   ]
  },
  {
   "cell_type": "code",
   "execution_count": 88,
   "metadata": {
    "deletable": false,
    "nbgrader": {
     "cell_type": "code",
     "checksum": "2dedd0afdf8429e8fc09d2658d83308b",
     "grade": true,
     "grade_id": "cell-842622900cd7989e",
     "locked": false,
     "points": 1,
     "schema_version": 3,
     "solution": true,
     "task": false
    }
   },
   "outputs": [
    {
     "data": {
      "text/plain": [
       "PythonRDD[102] at RDD at PythonRDD.scala:53"
      ]
     },
     "execution_count": 88,
     "metadata": {},
     "output_type": "execute_result"
    }
   ],
   "source": [
    "# TODO: Complete the cell with the appropriate code\n",
    "loremWordsRDD.persist()"
   ]
  },
  {
   "cell_type": "markdown",
   "metadata": {
    "deletable": false,
    "editable": false,
    "nbgrader": {
     "cell_type": "markdown",
     "checksum": "0d4ff0a838ee616d4cc1401f6ec6c6dc",
     "grade": false,
     "grade_id": "cell-c1223b8ccd849d46",
     "locked": true,
     "schema_version": 3,
     "solution": false,
     "task": false
    }
   },
   "source": [
    "3. Volvemos a contar el número de palabras después de hacer el `persist()` y observamos que el tiempo de ejecución es mayor que antes de hacer el `persist()` ya que debe almacenar los resultados en los nodos para su posterior uso."
   ]
  },
  {
   "cell_type": "code",
   "execution_count": 89,
   "metadata": {
    "deletable": false,
    "editable": false,
    "nbgrader": {
     "cell_type": "code",
     "checksum": "b9a759ed76c16634bdfa718bcb96334e",
     "grade": false,
     "grade_id": "cell-3f1333dc673a92fe",
     "locked": true,
     "schema_version": 3,
     "solution": false,
     "task": false
    }
   },
   "outputs": [
    {
     "name": "stdout",
     "output_type": "stream",
     "text": [
      "CPU times: user 16 ms, sys: 0 ns, total: 16 ms\n",
      "Wall time: 22.9 s\n"
     ]
    },
    {
     "data": {
      "text/plain": [
       "29249699"
      ]
     },
     "execution_count": 89,
     "metadata": {},
     "output_type": "execute_result"
    }
   ],
   "source": [
    "%%time\n",
    "loremWordsRDD.count()"
   ]
  },
  {
   "cell_type": "markdown",
   "metadata": {
    "deletable": false,
    "editable": false,
    "nbgrader": {
     "cell_type": "markdown",
     "checksum": "bcfe13b33ed146431b005cc2f615a130",
     "grade": false,
     "grade_id": "cell-c937bf509aa1f2fc",
     "locked": true,
     "schema_version": 3,
     "solution": false,
     "task": false
    }
   },
   "source": [
    "4. En esta segunda ejecución del `count()` y posteriores observaremos que el tiempo de ejecución es casi 10 veces menor"
   ]
  },
  {
   "cell_type": "code",
   "execution_count": 90,
   "metadata": {
    "deletable": false,
    "editable": false,
    "nbgrader": {
     "cell_type": "code",
     "checksum": "a3cd0df436808cc9611d25929c510306",
     "grade": false,
     "grade_id": "cell-dcbbb8e9ae62648d",
     "locked": true,
     "schema_version": 3,
     "solution": false,
     "task": false
    }
   },
   "outputs": [
    {
     "name": "stdout",
     "output_type": "stream",
     "text": [
      "CPU times: user 12 ms, sys: 0 ns, total: 12 ms\n",
      "Wall time: 4.56 s\n"
     ]
    },
    {
     "data": {
      "text/plain": [
       "29249699"
      ]
     },
     "execution_count": 90,
     "metadata": {},
     "output_type": "execute_result"
    }
   ],
   "source": [
    "%%time\n",
    "loremWordsRDD.count()"
   ]
  },
  {
   "cell_type": "markdown",
   "metadata": {
    "deletable": false,
    "editable": false,
    "nbgrader": {
     "cell_type": "markdown",
     "checksum": "1305387b9c35039e461e6794e8726e2f",
     "grade": false,
     "grade_id": "cell-24c1133fc8fd1a02",
     "locked": true,
     "schema_version": 3,
     "solution": false,
     "task": false
    }
   },
   "source": [
    "5. Si queremos des-persistir el RDD que hemos persistido con `persist()` utilizaremos `unpersist()` (1 Punto)\n",
    "\n",
    "\n",
    "**HINT (Copy & Paste and Complete):** \n",
    "```python\n",
    "loremWordsRDD.< FILL IN >\n",
    "```"
   ]
  },
  {
   "cell_type": "code",
   "execution_count": 91,
   "metadata": {
    "deletable": false,
    "nbgrader": {
     "cell_type": "code",
     "checksum": "0c71ec8d1f1f28cf6201f4593124d989",
     "grade": true,
     "grade_id": "cell-04cf8ab9ef00be68",
     "locked": false,
     "points": 1,
     "schema_version": 3,
     "solution": true,
     "task": false
    }
   },
   "outputs": [
    {
     "data": {
      "text/plain": [
       "PythonRDD[102] at RDD at PythonRDD.scala:53"
      ]
     },
     "execution_count": 91,
     "metadata": {},
     "output_type": "execute_result"
    }
   ],
   "source": [
    "# TODO: Replace <FILL IN> with appropriate code\n",
    "#START <FILL IN>\n",
    "loremWordsRDD.unpersist()\n",
    "#END <FILL IN>"
   ]
  },
  {
   "cell_type": "markdown",
   "metadata": {
    "deletable": false,
    "editable": false,
    "nbgrader": {
     "cell_type": "markdown",
     "checksum": "d503cec08acba8bf17b51fd04666cb61",
     "grade": false,
     "grade_id": "cell-ff0d44684256537e",
     "locked": true,
     "schema_version": 3,
     "solution": false,
     "task": false
    }
   },
   "source": [
    "6. Volvemos a contar el número de palabras con el `count()` y observamos que volvemos a tener tiempos de ejecución similares a antes de ejecutar el `persist()`"
   ]
  },
  {
   "cell_type": "code",
   "execution_count": 92,
   "metadata": {
    "deletable": false,
    "editable": false,
    "nbgrader": {
     "cell_type": "code",
     "checksum": "069508f2589db7b78eff9a7bc5277285",
     "grade": false,
     "grade_id": "cell-8f20b7e3e70f50ba",
     "locked": true,
     "schema_version": 3,
     "solution": false,
     "task": false
    }
   },
   "outputs": [
    {
     "name": "stdout",
     "output_type": "stream",
     "text": [
      "CPU times: user 8 ms, sys: 4 ms, total: 12 ms\n",
      "Wall time: 15.4 s\n"
     ]
    },
    {
     "data": {
      "text/plain": [
       "29249699"
      ]
     },
     "execution_count": 92,
     "metadata": {},
     "output_type": "execute_result"
    }
   ],
   "source": [
    "%%time\n",
    "loremWordsRDD.count()"
   ]
  },
  {
   "cell_type": "markdown",
   "metadata": {
    "deletable": false,
    "editable": false,
    "nbgrader": {
     "cell_type": "markdown",
     "checksum": "141edac8ccc973db30b1a5aaa9652ab5",
     "grade": false,
     "grade_id": "cell-3931e089ba319a38",
     "locked": true,
     "schema_version": 3,
     "solution": false,
     "task": false
    }
   },
   "source": [
    "### (4f) Calcula palabras distintas (3 Puntos)\n",
    "\n",
    "En este punto se pide contar cuantas palabras distintas contiene nuestro texto\n",
    "\n",
    "\n",
    "**HINT (Copy & Paste and Complete):** \n",
    "```python\n",
    "distintWordsMapRDD = loremWordsRDD.< FILL IN >\n",
    "```"
   ]
  },
  {
   "cell_type": "code",
   "execution_count": 107,
   "metadata": {
    "deletable": false,
    "nbgrader": {
     "cell_type": "code",
     "checksum": "822b53e8828e69c1fdee7d22ab85434b",
     "grade": false,
     "grade_id": "cell-f9cb40f98d506e08",
     "locked": false,
     "schema_version": 3,
     "solution": true,
     "task": false
    }
   },
   "outputs": [],
   "source": [
    "# TODO: Replace the following block with appropriate code\n",
    "#START <FILL IN>\n",
    "distintWordsMapRDD = loremWordsRDD.map(lambda x: (x,1))\n",
    "#END <FILL IN>\n",
    "distintWordsRDD=distintWordsMapRDD.keys().distinct()"
   ]
  },
  {
   "cell_type": "code",
   "execution_count": 98,
   "metadata": {
    "deletable": false,
    "editable": false,
    "nbgrader": {
     "cell_type": "code",
     "checksum": "bdac466792acc0240f1ccb336d695f3f",
     "grade": true,
     "grade_id": "cell-a594923db15344f9",
     "locked": true,
     "points": 3,
     "schema_version": 3,
     "solution": false,
     "task": false
    }
   },
   "outputs": [],
   "source": [
    "# TEST Remove empty elements (4f)\n",
    "assert distintWordsRDD.count()== 182"
   ]
  },
  {
   "cell_type": "markdown",
   "metadata": {
    "deletable": false,
    "editable": false,
    "nbgrader": {
     "cell_type": "markdown",
     "checksum": "308e38637c06837bcf66ef1e799fa94d",
     "grade": false,
     "grade_id": "cell-e2332f8e4442c2f2",
     "locked": true,
     "schema_version": 3,
     "solution": false,
     "task": false
    }
   },
   "source": [
    "### (4g) Cuenta las palabras (3 Puntos)\n",
    "\n",
    "Ahora que tenemos un RDD que contiene solo palabras. Se pide aplicar la función `wordCount()` para producir una lista con los conteos de palabras. Podemos ver las 15 más comunes usando la acción `takeOrdered()`; sin embargo, como los elementos del RRD son pares, necesitamos una función especial que ordene los pares de la forma correcta.\n",
    "\n",
    "\n",
    "Usa las funciones  `wordCount()` y `takeOrdered()` para obtener las 15 palabras más comunes junto con sus conteos.\n",
    "\n",
    "**HINT (Copy & Paste and Complete):** \n",
    "```python\n",
    "top15WordsAndCounts = wordCount(loremWordsRDD).< FILL IN >\n",
    "```"
   ]
  },
  {
   "cell_type": "code",
   "execution_count": 104,
   "metadata": {
    "deletable": false,
    "nbgrader": {
     "cell_type": "code",
     "checksum": "6e1160a2f6567f6fe5f1af0dfaa5d548",
     "grade": false,
     "grade_id": "cell-d1578aa6bfcaee3f",
     "locked": false,
     "schema_version": 3,
     "solution": true,
     "task": false
    }
   },
   "outputs": [
    {
     "data": {
      "text/plain": [
       "[('et', 1291567),\n",
       " ('aut', 705322),\n",
       " ('ut', 704966),\n",
       " ('qui', 704703),\n",
       " ('est', 587782),\n",
       " ('voluptatem', 469634),\n",
       " ('quia', 469401),\n",
       " ('rerum', 353054),\n",
       " ('sed', 352873),\n",
       " ('omnis', 352653),\n",
       " ('consequatur', 352436),\n",
       " ('sit', 352396),\n",
       " ('non', 351959),\n",
       " ('voluptas', 351127),\n",
       " ('dolorem', 235822)]"
      ]
     },
     "execution_count": 104,
     "metadata": {},
     "output_type": "execute_result"
    }
   ],
   "source": [
    "# TODO: Complete the cell with the appropriate code\n",
    "top15WordsAndCounts = wordCount(loremWordsRDD).takeOrdered(15, key = lambda x: -x[1])\n",
    "top15WordsAndCounts"
   ]
  },
  {
   "cell_type": "code",
   "execution_count": 105,
   "metadata": {
    "deletable": false,
    "editable": false,
    "nbgrader": {
     "cell_type": "code",
     "checksum": "df823feb69852fc10efd40c3f2c19042",
     "grade": true,
     "grade_id": "cell-55604f13d56cfa0a",
     "locked": true,
     "points": 3,
     "schema_version": 3,
     "solution": false,
     "task": false
    }
   },
   "outputs": [],
   "source": [
    "# TEST Count the words (exercise 4g)\n",
    "assert top15WordsAndCounts== [('et', 1291567), ('aut', 705322), \n",
    "                              ('ut', 704966), ('qui', 704703), \n",
    "                              ('est', 587782), ('voluptatem', 469634), \n",
    "                              ('quia', 469401), ('rerum', 353054), ('sed', 352873),\n",
    "                              ('omnis', 352653), ('consequatur', 352436), \n",
    "                              ('sit', 352396), ('non', 351959), ('voluptas', 351127), \n",
    "                              ('dolorem', 235822)]"
   ]
  },
  {
   "cell_type": "markdown",
   "metadata": {
    "deletable": false,
    "editable": false,
    "nbgrader": {
     "cell_type": "markdown",
     "checksum": "3495f485b7afb4dc03f50be9393c5949",
     "grade": false,
     "grade_id": "cell-ad61bde848da0528",
     "locked": true,
     "schema_version": 3,
     "solution": false,
     "task": false
    }
   },
   "source": [
    "## Parte 5: Calcular algunos estadísticos\n",
    "\n",
    "Usando las mismas técnicas que has aplicado en los ejercicios anteriores responde a las siguientes preguntas:\n",
    "\n",
    "- ¿Cuantas palabras distintas tienen exactamente dos 's'? (4 Puntos)\n",
    "- ¿Cual es la palabra de siete letras que más se repite? ¿Cuantas veces aparece? (4 Puntos)\n",
    "- ¿Cuantas palabras distintas tienen más consonantes que vocales? (4 Puntos)"
   ]
  },
  {
   "cell_type": "code",
   "execution_count": 108,
   "metadata": {
    "deletable": false,
    "nbgrader": {
     "cell_type": "code",
     "checksum": "b445528bea33efb64ed3478e85283628",
     "grade": false,
     "grade_id": "cell-7c371ee95bd57d18",
     "locked": false,
     "schema_version": 3,
     "solution": true,
     "task": false
    }
   },
   "outputs": [
    {
     "data": {
      "text/plain": [
       "7"
      ]
     },
     "execution_count": 108,
     "metadata": {},
     "output_type": "execute_result"
    }
   ],
   "source": [
    "#¿Cuantas palabras distintas tienen exactamente dos 's'?\n",
    "def two_s(word):\n",
    "    if word.count(\"s\")==2:\n",
    "        return True\n",
    "    else:\n",
    "        return False\n",
    "\n",
    "loremWordsRDD_2s = distintWordsRDD.filter(lambda x: two_s(x))\n",
    "loremWordsRDD_2s.count()"
   ]
  },
  {
   "cell_type": "code",
   "execution_count": 109,
   "metadata": {
    "deletable": false,
    "editable": false,
    "nbgrader": {
     "cell_type": "code",
     "checksum": "6f26df9b2886fc97a2bc890a4e5ab0ed",
     "grade": true,
     "grade_id": "cell-072520fa34734220",
     "locked": true,
     "points": 4,
     "schema_version": 3,
     "solution": false,
     "task": false
    }
   },
   "outputs": [],
   "source": [
    "# TEST Different words with exactly two 's' (5a)\n",
    "assert loremWordsRDD_2s.count()== 7"
   ]
  },
  {
   "cell_type": "code",
   "execution_count": 116,
   "metadata": {
    "deletable": false,
    "nbgrader": {
     "cell_type": "code",
     "checksum": "2df91a1e0be321effce042b5da6fa4ed",
     "grade": false,
     "grade_id": "cell-079fd33957109dca",
     "locked": false,
     "schema_version": 3,
     "solution": true,
     "task": false
    }
   },
   "outputs": [
    {
     "data": {
      "text/plain": [
       "[('dolorem', 235822)]"
      ]
     },
     "execution_count": 116,
     "metadata": {},
     "output_type": "execute_result"
    }
   ],
   "source": [
    "#¿Cual es la palabra de siete letas que más se repite?¿Cuantas veces aparece?\n",
    "\n",
    "def seven_letters(word):\n",
    "    if len(word)==7:\n",
    "        return True\n",
    "    else:\n",
    "        return False\n",
    "    \n",
    "distintWordsRDD_7_Number_Repetitions = wordCount(loremWordsRDD).filter(lambda x: seven_letters(x[0]))\n",
    "distintWordsRDD_7_Number_Repetitions.takeOrdered(1, key = lambda x: -x[1])"
   ]
  },
  {
   "cell_type": "code",
   "execution_count": 117,
   "metadata": {
    "deletable": false,
    "editable": false,
    "nbgrader": {
     "cell_type": "code",
     "checksum": "13dd649e9f586e09a3cfbe297bd990e0",
     "grade": true,
     "grade_id": "cell-b7efa700f3bef7bb",
     "locked": true,
     "points": 4,
     "schema_version": 3,
     "solution": false,
     "task": false
    }
   },
   "outputs": [],
   "source": [
    "# TEST 7 letters most repeated word, how many times is repeated (5b)\n",
    "assert distintWordsRDD_7_Number_Repetitions.count()== 23"
   ]
  },
  {
   "cell_type": "code",
   "execution_count": 118,
   "metadata": {
    "deletable": false,
    "nbgrader": {
     "cell_type": "code",
     "checksum": "cfb3ec9b8d8d2b176da54f87b770b6f5",
     "grade": false,
     "grade_id": "cell-a5272a8fe999e503",
     "locked": false,
     "schema_version": 3,
     "solution": true,
     "task": false
    }
   },
   "outputs": [
    {
     "data": {
      "text/plain": [
       "['tempora',\n",
       " 'porro',\n",
       " 'consectetur',\n",
       " 'debitis',\n",
       " 'sunt',\n",
       " 'ipsum',\n",
       " 'fugit',\n",
       " 'consequatur',\n",
       " 'aspernatur',\n",
       " 'nulla']"
      ]
     },
     "execution_count": 118,
     "metadata": {},
     "output_type": "execute_result"
    }
   ],
   "source": [
    "#¿Cuantas palabras distintas tienen más consonantes que vocales?\n",
    "vowels=['a','e','i','o','u']\n",
    "\n",
    "def more_consonants_than_vowels(word):\n",
    "    c_vowels=0\n",
    "    c_consonants=0\n",
    "    for letter in word:\n",
    "        if letter in vowels:\n",
    "            c_vowels=c_vowels+1\n",
    "        else:\n",
    "            c_consonants=c_consonants+1\n",
    "    if c_consonants>c_vowels:\n",
    "        return True\n",
    "    else:\n",
    "        return False\n",
    "\n",
    "moreConstWordsRDD = distintWordsRDD.filter(lambda x: more_consonants_than_vowels(x))\n",
    "moreConstWordsRDD.take(10)"
   ]
  },
  {
   "cell_type": "code",
   "execution_count": 119,
   "metadata": {
    "deletable": false,
    "editable": false,
    "nbgrader": {
     "cell_type": "code",
     "checksum": "685ff6b772445fbac34ed79f616a68f0",
     "grade": true,
     "grade_id": "cell-ef4bc4b82edc1fe2",
     "locked": true,
     "points": 4,
     "schema_version": 3,
     "solution": false,
     "task": false
    }
   },
   "outputs": [],
   "source": [
    "# TEST More consonants than vowels (5c)\n",
    "assert moreConstWordsRDD.count()== 89"
   ]
  },
  {
   "cell_type": "code",
   "execution_count": null,
   "metadata": {},
   "outputs": [],
   "source": []
  }
 ],
 "metadata": {
  "kernelspec": {
   "display_name": "Python 3",
   "language": "python",
   "name": "python3"
  },
  "language_info": {
   "codemirror_mode": {
    "name": "ipython",
    "version": 3
   },
   "file_extension": ".py",
   "mimetype": "text/x-python",
   "name": "python",
   "nbconvert_exporter": "python",
   "pygments_lexer": "ipython3",
   "version": "3.5.2"
  }
 },
 "nbformat": 4,
 "nbformat_minor": 4
}
